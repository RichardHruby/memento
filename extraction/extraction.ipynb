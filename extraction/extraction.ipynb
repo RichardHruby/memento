{
 "cells": [
  {
   "cell_type": "markdown",
   "metadata": {},
   "source": [
    "# Extraction Notebook"
   ]
  },
  {
   "cell_type": "code",
   "execution_count": 2,
   "metadata": {},
   "outputs": [],
   "source": [
    "from langchain_anthropic import ChatAnthropic\n",
    "from dotenv import load_dotenv"
   ]
  },
  {
   "cell_type": "code",
   "execution_count": 3,
   "metadata": {},
   "outputs": [
    {
     "data": {
      "text/plain": [
       "True"
      ]
     },
     "execution_count": 3,
     "metadata": {},
     "output_type": "execute_result"
    }
   ],
   "source": [
    "load_dotenv()"
   ]
  },
  {
   "cell_type": "markdown",
   "metadata": {},
   "source": [
    "## Testing and model config"
   ]
  },
  {
   "cell_type": "code",
   "execution_count": 4,
   "metadata": {},
   "outputs": [],
   "source": [
    "chat = ChatAnthropic(temperature=0, model_name=\"claude-3-opus-20240229\")"
   ]
  },
  {
   "cell_type": "code",
   "execution_count": 5,
   "metadata": {},
   "outputs": [
    {
     "data": {
      "text/plain": [
       "AIMessage(content='저는 파이썬을 사랑합니다.\\n\\nTranslation:\\nI love Python.', response_metadata={'id': 'msg_01YQxnA6usGmYdERQS12DZc7', 'model': 'claude-3-opus-20240229', 'stop_reason': 'end_turn', 'stop_sequence': None, 'usage': {'input_tokens': 22, 'output_tokens': 28}}, id='run-5b715f5c-189c-4222-95f1-6a6ba9bf67ec-0')"
      ]
     },
     "execution_count": 5,
     "metadata": {},
     "output_type": "execute_result"
    }
   ],
   "source": [
    "from langchain_anthropic import ChatAnthropic\n",
    "from langchain_core.prompts import ChatPromptTemplate\n",
    "\n",
    "chat = ChatAnthropic(temperature=0, model_name=\"claude-3-opus-20240229\")\n",
    "\n",
    "system = (\n",
    "    \"You are a helpful assistant that translates {input_language} to {output_language}.\"\n",
    ")\n",
    "human = \"{text}\"\n",
    "prompt = ChatPromptTemplate.from_messages([(\"system\", system), (\"human\", human)])\n",
    "\n",
    "chain = prompt | chat\n",
    "chain.invoke(\n",
    "    {\n",
    "        \"input_language\": \"English\",\n",
    "        \"output_language\": \"Korean\",\n",
    "        \"text\": \"I love Python\",\n",
    "    }\n",
    ")"
   ]
  },
  {
   "cell_type": "markdown",
   "metadata": {},
   "source": [
    "## Extraction Chain"
   ]
  },
  {
   "cell_type": "code",
   "execution_count": 21,
   "metadata": {},
   "outputs": [],
   "source": [
    "prompt = ChatPromptTemplate.from_messages(\n",
    "    [\n",
    "        (\n",
    "            \"system\",\n",
    "            \"You are an expert extraction algorithm. \"\n",
    "            \"Only extract relevant information from the text. \"\n",
    "            \"If you do not know the value of an attribute asked to extract, \"\n",
    "            \"return null for the attribute's value.\",\n",
    "        ),\n",
    "        # Please see the how-to about improving performance with\n",
    "        # reference examples.\n",
    "        # MessagesPlaceholder('examples'),\n",
    "        (\"human\", \"{text}\"),\n",
    "    ]\n",
    ")"
   ]
  },
  {
   "cell_type": "code",
   "execution_count": 7,
   "metadata": {},
   "outputs": [],
   "source": [
    "from typing import List, Optional\n",
    "\n",
    "from langchain_core.pydantic_v1 import BaseModel, Field\n",
    "\n",
    "\n",
    "class Person(BaseModel):\n",
    "    \"\"\"Information about a person.\"\"\"\n",
    "\n",
    "    name: str = Field(..., description=\"The name of the person. This field is required.\")\n",
    "    image_url: Optional[str] = Field('', description=\"URL of an image of the person. This is usually left empty.\")\n",
    "    facts: List[str] = Field(default_factory=list, description=\"A list of miscellaneous facts about the person.\")"
   ]
  },
  {
   "cell_type": "code",
   "execution_count": 17,
   "metadata": {},
   "outputs": [],
   "source": [
    "text = \"\"\" Speaker A:  Hey man, how's it going? \n",
    "\n",
    "Speaker B:  Good, good. How about you? What's your favorite animal, man? \n",
    "\n",
    "Speaker A:  Pretty good. My favorite animal is dinosaur. But let me start, like, what's your name? \n",
    "\n",
    "Speaker B:  I'm Arush. What's yours? \n",
    "\n",
    "Speaker A:  I'm Vig, by the way. Nice to meet you. So how do you like the conference? \n",
    "\n",
    "Speaker B:  It's pretty cool. It's really big. I'm meeting a lot of really cool people. \n",
    "\n",
    "Speaker A:  My favorite animal is the capybara, so I've been finding a lot of capybara lovers around here. It's been nice. \n",
    "\n",
    "Speaker B:  Tell me more about capybara. \n",
    "\n",
    "Speaker A:  They're just really goofy. \n",
    "\n",
    "Speaker B:  Interesting. Is that why you like them? \n",
    "\n",
    "Speaker A:  Yeah, yeah. It's... \n",
    "\n",
    "Speaker B:  That's very interesting, man. Like, I've never seen someone who's a fan of capybara. \n",
    "\n",
    "Speaker A:  It's the first time. \n",
    "\n",
    "Speaker B:  Yeah, they're like huge rats, basically. \n",
    "\n",
    "Speaker A:  Oh, okay. Interesting. \n",
    "\n",
    "Speaker B:  They're really cute, and there's been a trend going on, going around on, like, Instagram and stuff of \n",
    "\n",
    "Speaker A:  reels of capybaras doing random stuff. They're like pandas, by the way. \n",
    "\n",
    "Speaker B:  That's amazing. It kind of reminds me of how, you know, people use animal names for, like, technology stuff. \n",
    "\n",
    "Speaker A:  Like, you know, I don't want to quite say LLM, but, you know, llama is something. \n",
    "\n",
    "Speaker B:  Yeah. \n",
    "\n",
    "Speaker A:  So, but that's very interesting. I'm a huge fan of dinosaur, and one of the popular things is just, I think they're very cool. \n",
    "\n",
    "Speaker B:  I used to be a very much a fan of a velociraptor, which is like, you know, a dinosaur, right? \n",
    "\n",
    "Speaker A:  Yeah. What really sparked your interest in velociraptors? Was it Jurassic Park? \n",
    "\n",
    "Speaker B:  I could, it's partly the Jurassic Park, but I would say it's more like the way they behave. \n",
    "\n",
    "Speaker A:  Something that was very attractive is just like, you know, they're very intelligent. \n",
    "\n",
    "Speaker B:  They work as a group, and, you know, they're kind of excited, like, it's kind of like they're not very big, \n",
    "\n",
    "Speaker A:  but they're like super genius, right? \n",
    "\n",
    "Speaker B:  Yeah. \n",
    "\n",
    "Speaker A:  Like the dog, yes, but, all right. I hope you have a good conference, man. \n",
    "\n",
    "Speaker B:  Yeah, you too, man. \n",
    "\n",
    "Speaker A:  I'll see you around. See ya.\n",
    "\"\"\""
   ]
  },
  {
   "cell_type": "code",
   "execution_count": 18,
   "metadata": {},
   "outputs": [],
   "source": [
    "# runnable = prompt | chat.with_structured_output(schema=Person)\n",
    "\n",
    "# runnable.invoke({\"text\": text, \"input_language\": \"English\",\n",
    "#         \"output_language\": \"English\",})\n"
   ]
  },
  {
   "cell_type": "code",
   "execution_count": 22,
   "metadata": {},
   "outputs": [],
   "source": [
    "class Conversation(BaseModel):\n",
    "    \"\"\"Model for capturing conversation details.\n",
    "\n",
    "    This class captures the essentials of a conversation, including who was involved, when it occurred, and a summary of the discussion. The timestamp is optional and can be left empty, aligning with the requirement to occasionally omit the specific time of the conversation.\n",
    "    \"\"\"\n",
    "\n",
    "    persons: List[Person]\n",
    "    timestamp: Optional[str] = Field(None, description=\"The timestamp when the conversation occurred. This field is always empty.\")\n",
    "    summary:Optional[str] = Field(..., description=\"A bulleted summary list of key points discussed in the conversation.\")"
   ]
  },
  {
   "cell_type": "code",
   "execution_count": 23,
   "metadata": {},
   "outputs": [
    {
     "data": {
      "text/plain": [
       "Conversation(persons=[Person(name='Vig', image_url='', facts=[\"Vig's favorite animal is the capybara\", 'Vig likes capybaras because they are goofy', 'Vig has been finding other capybara lovers at the conference']), Person(name='Arush', image_url='', facts=['Arush used to be a fan of velociraptors', 'Arush was partly interested in velociraptors due to Jurassic Park', 'Arush likes how velociraptors behave intelligently in groups despite their small size'])], timestamp='', summary='- Vig and Arush introduce themselves to each other at a conference\\n- Vig shares that his favorite animal is the capybara because they are goofy\\n- Vig has been meeting other capybara fans at the conference \\n- Arush used to be a fan of velociraptors, partly due to Jurassic Park\\n- Arush likes how velociraptors work intelligently in groups despite being small\\n- They discuss the trend of capybara videos on social media\\n- They note how animal names are sometimes used for technology \\n- They wish each other well and say goodbye')"
      ]
     },
     "execution_count": 23,
     "metadata": {},
     "output_type": "execute_result"
    }
   ],
   "source": [
    "runnable = prompt | chat.with_structured_output(schema=Conversation)\n",
    "\n",
    "runnable.invoke({\"text\": text})\n"
   ]
  },
  {
   "cell_type": "code",
   "execution_count": null,
   "metadata": {},
   "outputs": [],
   "source": []
  }
 ],
 "metadata": {
  "kernelspec": {
   "display_name": ".venv",
   "language": "python",
   "name": "python3"
  },
  "language_info": {
   "codemirror_mode": {
    "name": "ipython",
    "version": 3
   },
   "file_extension": ".py",
   "mimetype": "text/x-python",
   "name": "python",
   "nbconvert_exporter": "python",
   "pygments_lexer": "ipython3",
   "version": "3.9.13"
  }
 },
 "nbformat": 4,
 "nbformat_minor": 2
}
