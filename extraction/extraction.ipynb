{
 "cells": [
  {
   "cell_type": "markdown",
   "metadata": {},
   "source": [
    "# Extraction Notebook"
   ]
  },
  {
   "cell_type": "code",
   "execution_count": 2,
   "metadata": {},
   "outputs": [],
   "source": [
    "from langchain_anthropic import ChatAnthropic\n",
    "from dotenv import load_dotenv"
   ]
  },
  {
   "cell_type": "code",
   "execution_count": 3,
   "metadata": {},
   "outputs": [
    {
     "data": {
      "text/plain": [
       "True"
      ]
     },
     "execution_count": 3,
     "metadata": {},
     "output_type": "execute_result"
    }
   ],
   "source": [
    "load_dotenv()"
   ]
  },
  {
   "cell_type": "markdown",
   "metadata": {},
   "source": [
    "## Testing and model config"
   ]
  },
  {
   "cell_type": "code",
   "execution_count": 4,
   "metadata": {},
   "outputs": [],
   "source": [
    "chat = ChatAnthropic(temperature=0, model_name=\"claude-3-opus-20240229\")"
   ]
  },
  {
   "cell_type": "code",
   "execution_count": 5,
   "metadata": {},
   "outputs": [
    {
     "data": {
      "text/plain": [
       "AIMessage(content='저는 파이썬을 사랑합니다.\\n\\nTranslation:\\nI love Python.', response_metadata={'id': 'msg_01YQxnA6usGmYdERQS12DZc7', 'model': 'claude-3-opus-20240229', 'stop_reason': 'end_turn', 'stop_sequence': None, 'usage': {'input_tokens': 22, 'output_tokens': 28}}, id='run-5b715f5c-189c-4222-95f1-6a6ba9bf67ec-0')"
      ]
     },
     "execution_count": 5,
     "metadata": {},
     "output_type": "execute_result"
    }
   ],
   "source": [
    "from langchain_anthropic import ChatAnthropic\n",
    "from langchain_core.prompts import ChatPromptTemplate\n",
    "\n",
    "chat = ChatAnthropic(temperature=0, model_name=\"claude-3-opus-20240229\")\n",
    "\n",
    "system = (\n",
    "    \"You are a helpful assistant that translates {input_language} to {output_language}.\"\n",
    ")\n",
    "human = \"{text}\"\n",
    "prompt = ChatPromptTemplate.from_messages([(\"system\", system), (\"human\", human)])\n",
    "\n",
    "chain = prompt | chat\n",
    "chain.invoke(\n",
    "    {\n",
    "        \"input_language\": \"English\",\n",
    "        \"output_language\": \"Korean\",\n",
    "        \"text\": \"I love Python\",\n",
    "    }\n",
    ")"
   ]
  },
  {
   "cell_type": "markdown",
   "metadata": {},
   "source": [
    "## Extraction Chain"
   ]
  },
  {
   "cell_type": "code",
   "execution_count": 25,
   "metadata": {},
   "outputs": [],
   "source": [
    "prompt = ChatPromptTemplate.from_messages(\n",
    "    [\n",
    "        (\n",
    "            \"system\",\n",
    "            \"You are an expert extraction algorithm. \"\n",
    "            \"Only extract relevant information from the text. \"\n",
    "            \"If you do not know the value of an attribute asked to extract, \"\n",
    "            \"return null for the attribute's value.\"\n",
    "            \"before you formulate your response think about who the individual speakers are and enclose your thoughts in thinking tags\"\n",
    "        ),\n",
    "        # Please see the how-to about improving performance with\n",
    "        # reference examples.\n",
    "        # MessagesPlaceholder('examples'),\n",
    "        (\"human\", \"{text}\"),\n",
    "    ]\n",
    ")"
   ]
  },
  {
   "cell_type": "code",
   "execution_count": 26,
   "metadata": {},
   "outputs": [],
   "source": [
    "from typing import List, Optional\n",
    "\n",
    "from langchain_core.pydantic_v1 import BaseModel, Field\n",
    "\n",
    "\n",
    "class Person(BaseModel):\n",
    "    \"\"\"Information about a person.\"\"\"\n",
    "\n",
    "    name: str = Field(..., description=\"The name of the person. This field is required.\")\n",
    "    image_url: Optional[str] = Field('', description=\"URL of an image of the person. This is usually left empty.\")\n",
    "    facts: List[str] = Field(default_factory=list, description=\"A list of miscellaneous facts about the person.\")"
   ]
  },
  {
   "cell_type": "code",
   "execution_count": 31,
   "metadata": {},
   "outputs": [],
   "source": [
    "text = \"\"\"\n",
    "\"Hey man, how\\'s it going? Good, good. How about you? '\n",
    " \"What's your favorite animal, man? Pretty good. My favorite animal is \"\n",
    " \"dinosaur. But let me start, like, what's your name? I'm Arush. What's yours? \"\n",
    " \"I'm Vig, by the way. Nice to meet you. So how do you like the conference? \"\n",
    " \"It's pretty cool. It's really big. I'm meeting a lot of really cool people. \"\n",
    " \"My favorite animal is the capybara, so I've been finding a lot of capybara \"\n",
    " \"lovers around here. It's been nice. Tell me more about capybara. They're \"\n",
    " 'just really goofy. Interesting. Is that why you like them? Yeah, yeah. '\n",
    " \"It's... That's very interesting, man. Like, I've never seen someone who's a \"\n",
    " \"fan of capybara. It's the first time. Yeah, they're like huge rats, \"\n",
    " \"basically. Oh, okay. Interesting. They're really cute, and there's been a \"\n",
    " 'trend going on, going around on, like, Instagram and stuff of reels of '\n",
    " \"capybaras doing random stuff. They're like pandas, by the way. That's \"\n",
    " 'amazing. It kind of reminds me of how, you know, people use animal names '\n",
    " \"for, like, technology stuff. Like, you know, I don't want to quite say LLM, \"\n",
    " \"but, you know, llama is something. Yeah. So, but that's very interesting. \"\n",
    " \"I'm a huge fan of dinosaur, and one of the popular things is just, I think \"\n",
    " \"they're very cool. I used to be a very much a fan of a velociraptor, which \"\n",
    " 'is like, you know, a dinosaur, right? Yeah. What really sparked your '\n",
    " \"interest in velociraptors? Was it Jurassic Park? I could, it's partly the \"\n",
    " \"Jurassic Park, but I would say it's more like the way they behave. Something \"\n",
    " \"that was very attractive is just like, you know, they're very intelligent. \"\n",
    " \"They work as a group, and, you know, they're kind of excited, like, it's \"\n",
    " \"kind of like they're not very big, but they're like super genius, right? \"\n",
    " 'Yeah. Like the dog, yes, but, all right. I hope you have a good conference, '\n",
    " 'man. Yeah, you too, man. I\\'ll see you around. See ya.\"\n",
    "\n",
    "\"\"\""
   ]
  },
  {
   "cell_type": "code",
   "execution_count": 34,
   "metadata": {},
   "outputs": [
    {
     "data": {
      "text/plain": [
       "'\\n\"Hey man, how\\'s it going? Good, good. How about you? \\'\\n \"What\\'s your favorite animal, man? Pretty good. My favorite animal is \"\\n \"dinosaur. But let me start, like, what\\'s your name? I\\'m Arush. What\\'s yours? \"\\n \"I\\'m Vig, by the way. Nice to meet you. So how do you like the conference? \"\\n \"It\\'s pretty cool. It\\'s really big. I\\'m meeting a lot of really cool people. \"\\n \"My favorite animal is the capybara, so I\\'ve been finding a lot of capybara \"\\n \"lovers around here. It\\'s been nice. Tell me more about capybara. They\\'re \"\\n \\'just really goofy. Interesting. Is that why you like them? Yeah, yeah. \\'\\n \"It\\'s... That\\'s very interesting, man. Like, I\\'ve never seen someone who\\'s a \"\\n \"fan of capybara. It\\'s the first time. Yeah, they\\'re like huge rats, \"\\n \"basically. Oh, okay. Interesting. They\\'re really cute, and there\\'s been a \"\\n \\'trend going on, going around on, like, Instagram and stuff of reels of \\'\\n \"capybaras doing random stuff. They\\'re like pandas, by the way. That\\'s \"\\n \\'amazing. It kind of reminds me of how, you know, people use animal names \\'\\n \"for, like, technology stuff. Like, you know, I don\\'t want to quite say LLM, \"\\n \"but, you know, llama is something. Yeah. So, but that\\'s very interesting. \"\\n \"I\\'m a huge fan of dinosaur, and one of the popular things is just, I think \"\\n \"they\\'re very cool. I used to be a very much a fan of a velociraptor, which \"\\n \\'is like, you know, a dinosaur, right? Yeah. What really sparked your \\'\\n \"interest in velociraptors? Was it Jurassic Park? I could, it\\'s partly the \"\\n \"Jurassic Park, but I would say it\\'s more like the way they behave. Something \"\\n \"that was very attractive is just like, you know, they\\'re very intelligent. \"\\n \"They work as a group, and, you know, they\\'re kind of excited, like, it\\'s \"\\n \"kind of like they\\'re not very big, but they\\'re like super genius, right? \"\\n \\'Yeah. Like the dog, yes, but, all right. I hope you have a good conference, \\'\\n \\'man. Yeah, you too, man. I\\'ll see you around. See ya.\"\\n\\n'"
      ]
     },
     "execution_count": 34,
     "metadata": {},
     "output_type": "execute_result"
    }
   ],
   "source": [
    "text"
   ]
  },
  {
   "cell_type": "code",
   "execution_count": 28,
   "metadata": {},
   "outputs": [],
   "source": [
    "# runnable = prompt | chat.with_structured_output(schema=Person)\n",
    "\n",
    "# runnable.invoke({\"text\": text, \"input_language\": \"English\",\n",
    "#         \"output_language\": \"English\",})\n"
   ]
  },
  {
   "cell_type": "code",
   "execution_count": 32,
   "metadata": {},
   "outputs": [],
   "source": [
    "class Conversation(BaseModel):\n",
    "    \"\"\"Model for capturing conversation details.\n",
    "\n",
    "    This class captures the essentials of a conversation, including who was involved, when it occurred, and a summary of the discussion. The timestamp is optional and can be left empty, aligning with the requirement to occasionally omit the specific time of the conversation.\n",
    "    \"\"\"\n",
    "\n",
    "    persons: List[Person]\n",
    "    timestamp: Optional[str] = Field(None, description=\"The timestamp when the conversation occurred. This field is always empty.\")\n",
    "    summary:Optional[str] = Field(..., description=\"A bulleted summary list of key points discussed in the conversation.\")"
   ]
  },
  {
   "cell_type": "code",
   "execution_count": 33,
   "metadata": {},
   "outputs": [
    {
     "data": {
      "text/plain": [
       "Conversation(persons=[Person(name='Arush', image_url='', facts=[\"Arush's favorite dinosaur is the velociraptor\", 'Arush likes velociraptors for their intelligence and group behavior', 'Arush was partly inspired by Jurassic Park for his interest in velociraptors']), Person(name='Vig', image_url='', facts=[\"Vig's favorite animal is the capybara\", 'Vig finds capybaras goofy and cute', 'Vig has seen Instagram reels of capybaras doing random things'])], timestamp='null', summary=\"- Arush and Vig meet for the first time at a conference\\n- Vig's favorite animal is the capybara, which he finds goofy and cute based on Instagram reels\\n- Arush's favorite dinosaur is the velociraptor, which he likes for their intelligence and group behavior, partly inspired by Jurassic Park \\n- They wish each other well at the end of the conversation\")"
      ]
     },
     "execution_count": 33,
     "metadata": {},
     "output_type": "execute_result"
    }
   ],
   "source": [
    "runnable = prompt | chat.with_structured_output(schema=Conversation)\n",
    "\n",
    "runnable.invoke({\"text\": text})\n"
   ]
  },
  {
   "cell_type": "markdown",
   "metadata": {},
   "source": [
    "## Preprocess transcript"
   ]
  },
  {
   "cell_type": "code",
   "execution_count": null,
   "metadata": {},
   "outputs": [],
   "source": [
    "from langchain_anthropic import ChatAnthropic\n",
    "from langchain_core.prompts import ChatPromptTemplate\n",
    "\n",
    "chat = ChatAnthropic(temperature=0, model_name=\"claude-3-haiku-20240229\")\n",
    "\n",
    "system = (\n",
    "    \"You are a helpful assistant that processes transcripts of conversations. You always identify speakers and return a diarized transcripts with names.\n",
    ")\n",
    "human = \"{text}\"\n",
    "prompt = ChatPromptTemplate.from_messages([(\"system\", system), (\"human\", human)])\n"
   ]
  },
  {
   "cell_type": "code",
   "execution_count": 36,
   "metadata": {},
   "outputs": [],
   "source": [
    "class Segment(BaseModel):\n",
    "    \"\"\"One segment of a conversation.\"\"\"\n",
    "\n",
    "    text: str = Field(..., description=\"The segment of the transcript. This field is required.\")\n",
    "    speaker_name: str = Field(..., description=\"The name of the speaker. This field is required.\")\n",
    "\n",
    "class Transcript(BaseModel):\n",
    "    \"\"\"A transcript of a conversation.\"\"\"\n",
    "\n",
    "    segments: List[Segment] = Field(..., description=\"A list of segments in the transcript. This field is required.\")"
   ]
  },
  {
   "cell_type": "code",
   "execution_count": 37,
   "metadata": {},
   "outputs": [
    {
     "data": {
      "text/plain": [
       "Transcript(segments=[Segment(text=\"Hey man, how's it going? Good, good. How about you?\", speaker_name='Arush'), Segment(text=\"What's your favorite animal, man? Pretty good. My favorite animal is dinosaur. But let me start, like, what's your name? I'm Arush. What's yours?\", speaker_name='Vig'), Segment(text=\"I'm Vig, by the way. Nice to meet you. So how do you like the conference?\", speaker_name='Arush'), Segment(text=\"It's pretty cool. It's really big. I'm meeting a lot of really cool people. My favorite animal is the capybara, so I've been finding a lot of capybara lovers around here. It's been nice.\", speaker_name='Vig'), Segment(text=\"Tell me more about capybara. They're just really goofy. Interesting. Is that why you like them?\", speaker_name='Arush'), Segment(text=\"Yeah, yeah. It's... That's very interesting, man. Like, I've never seen someone who's a fan of capybara. It's the first time.\", speaker_name='Vig'), Segment(text=\"Yeah, they're like huge rats, basically. Oh, okay. Interesting. They're really cute, and there's been a trend going on, going around on, like, Instagram and stuff of reels of capybaras doing random stuff. They're like pandas, by the way.\", speaker_name='Arush'), Segment(text=\"That's amazing. It kind of reminds me of how, you know, people use animal names for, like, technology stuff. Like, you know, I don't want to quite say LLM, but, you know, llama is something. Yeah. So, but that's very interesting. I'm a huge fan of dinosaur, and one of the popular things is just, I think they're very cool. I used to be a very much a fan of a velociraptor, which is like, you know, a dinosaur, right?\", speaker_name='Vig'), Segment(text='Yeah. What really sparked your interest in velociraptors? Was it Jurassic Park?', speaker_name='Arush'), Segment(text=\"I could, it's partly the Jurassic Park, but I would say it's more like the way they behave. Something that was very attractive is just like, you know, they're very intelligent. They work as a group, and, you know, they're kind of excited, like, it's kind of like they're not very big, but they're like super genius, right?\", speaker_name='Vig'), Segment(text='Yeah. Like the dog, yes, but, all right. I hope you have a good conference, man.', speaker_name='Arush'), Segment(text=\"Yeah, you too, man. I'll see you around.\", speaker_name='Vig'), Segment(text='See ya.', speaker_name='Arush')])"
      ]
     },
     "execution_count": 37,
     "metadata": {},
     "output_type": "execute_result"
    }
   ],
   "source": [
    "runnable = prompt | chat.with_structured_output(schema=Transcript)\n",
    "\n",
    "runnable.invoke({\"text\": text})"
   ]
  },
  {
   "cell_type": "code",
   "execution_count": null,
   "metadata": {},
   "outputs": [],
   "source": []
  }
 ],
 "metadata": {
  "kernelspec": {
   "display_name": ".venv",
   "language": "python",
   "name": "python3"
  },
  "language_info": {
   "codemirror_mode": {
    "name": "ipython",
    "version": 3
   },
   "file_extension": ".py",
   "mimetype": "text/x-python",
   "name": "python",
   "nbconvert_exporter": "python",
   "pygments_lexer": "ipython3",
   "version": "3.9.13"
  }
 },
 "nbformat": 4,
 "nbformat_minor": 2
}
